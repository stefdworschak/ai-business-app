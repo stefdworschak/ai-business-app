{
 "cells": [
  {
   "cell_type": "markdown",
   "metadata": {
    "colab_type": "text",
    "id": "view-in-github"
   },
   "source": [
    "<a href=\"https://colab.research.google.com/github/stefdworschak/ai-business-app/blob/main/solve_business_problems_with_ai.ipynb\" target=\"_parent\"><img src=\"https://colab.research.google.com/assets/colab-badge.svg\" alt=\"Open In Colab\"/></a>"
   ]
  },
  {
   "cell_type": "markdown",
   "metadata": {
    "id": "e0n49UaWPGAd"
   },
   "source": [
    "# Solve Business Problems with AI\n",
    "\n",
    "## Objective\n",
    "Develop a proof-of-concept application to intelligently process email order requests and customer inquiries for a fashion store. The system should accurately categorize emails as either product inquiries or order requests and generate appropriate responses using the product catalog information and current stock status.\n",
    "\n",
    "You are encouraged to use AI assistants (like ChatGPT or Claude) and any IDE of your choice to develop your solution. Many modern IDEs (such as PyCharm, or Cursor) can work with Jupiter files directly.\n",
    "\n",
    "## Task Description\n",
    "\n",
    "### Inputs\n",
    "\n",
    "Google Spreadsheet **[Document](https://docs.google.com/spreadsheets/d/14fKHsblfqZfWj3iAaM2oA51TlYfQlFT4WKo52fVaQ9U)** containing:\n",
    "\n",
    "- **Products**: List of products with fields including product ID, name, category, stock amount, detailed description, and season.\n",
    "\n",
    "- **Emails**: Sequential list of emails with fields such as email ID, subject, and body.\n",
    "\n",
    "### Instructions\n",
    "\n",
    "- Implement all requirements using advanced Large Language Models (LLMs) to handle complex tasks, process extensive data, and generate accurate outputs effectively.\n",
    "- Use Retrieval-Augmented Generation (RAG) and vector store techniques where applicable to retrieve relevant information and generate responses.\n",
    "- You are provided with a temporary OpenAI API key granting access to GPT-4o, which has a token quota. Use it wisely or use your own key if preferred.\n",
    "- Address the requirements in the order listed. Review them in advance to develop a general implementation plan before starting.\n",
    "- Your deliverables should include:\n",
    "   - Code developed within this notebook.\n",
    "   - A single spreadsheet containing results, organized across separate sheets.\n",
    "   - Comments detailing your thought process.\n",
    "- You may use additional libraries (e.g., langchain) to streamline the solution. Use libraries appropriately to align with best practices for AI and LLM tools.\n",
    "- Use the most suitable AI techniques for each task. Note that solving tasks with traditional programming methods will not earn points, as this assessment evaluates your knowledge of LLM tools and best practices.\n",
    "\n",
    "### Requirements\n",
    "\n",
    "#### 1. Classify emails\n",
    "    \n",
    "Classify each email as either a _**\"product inquiry\"**_ or an _**\"order request\"**_. Ensure that the classification accurately reflects the intent of the email.\n",
    "\n",
    "**Output**: Populate the **email-classification** sheet with columns: email ID, category.\n",
    "\n",
    "#### 2. Process order requests\n",
    "1.   Process orders\n",
    "  - For each order request, verify product availability in stock.\n",
    "  - If the order can be fulfilled, create a new order line with the status “created”.\n",
    "  - If the order cannot be fulfilled due to insufficient stock, create a line with the status “out of stock” and include the requested quantity.\n",
    "  - Update stock levels after processing each order.\n",
    "  - Record each product request from the email.\n",
    "  - **Output**: Populate the **order-status** sheet with columns: email ID, product ID, quantity, status (**_\"created\"_**, **_\"out of stock\"_**).\n",
    "\n",
    "2.   Generate responses\n",
    "  - Create response emails based on the order processing results:\n",
    "      - If the order is fully processed, inform the customer and provide product details.\n",
    "      - If the order cannot be fulfilled or is only partially fulfilled, explain the situation, specify the out-of-stock items, and suggest alternatives or options (e.g., waiting for restock).\n",
    "  - Ensure the email tone is professional and production-ready.\n",
    "  - **Output**: Populate the **order-response** sheet with columns: email ID, response.\n",
    "\n",
    "#### 3. Handle product inquiry\n",
    "\n",
    "Customers may ask general open questions.\n",
    "  - Respond to product inquiries using relevant information from the product catalog.\n",
    "  - Ensure your solution scales to handle a full catalog of over 100,000 products without exceeding token limits. Avoid including the entire catalog in the prompt.\n",
    "  - **Output**: Populate the **inquiry-response** sheet with columns: email ID, response.\n",
    "\n",
    "## Evaluation Criteria\n",
    "- **Advanced AI Techniques**: The system should use Retrieval-Augmented Generation (RAG) and vector store techniques to retrieve relevant information from data sources and use it to respond to customer inquiries.\n",
    "- **Tone Adaptation**: The AI should adapt its tone appropriately based on the context of the customer's inquiry. Responses should be informative and enhance the customer experience.\n",
    "- **Code Completeness**: All functionalities outlined in the requirements must be fully implemented and operational as described.\n",
    "- **Code Quality and Clarity**: The code should be well-organized, with clear logic and a structured approach. It should be easy to understand and maintain.\n",
    "- **Presence of Expected Outputs**: All specified outputs must be correctly generated and saved in the appropriate sheets of the output spreadsheet. Ensure the format of each output matches the requirements—do not add extra columns or sheets.\n",
    "- **Accuracy of Outputs**: The accuracy of the generated outputs is crucial and will significantly impact the evaluation of your submission.\n",
    "\n",
    "We look forward to seeing your solution and your approach to solving real-world problems with AI technologies."
   ]
  },
  {
   "cell_type": "markdown",
   "metadata": {
    "id": "GOUEcKe-xSPr"
   },
   "source": [
    "# Prerequisites"
   ]
  },
  {
   "cell_type": "markdown",
   "metadata": {
    "id": "otSVe-sQ-CsW"
   },
   "source": [
    "### Configure OpenAI API Key."
   ]
  },
  {
   "cell_type": "code",
   "execution_count": 1,
   "metadata": {
    "id": "UvOkHAkDghww"
   },
   "outputs": [
    {
     "name": "stdout",
     "output_type": "stream",
     "text": [
      "Requirement already satisfied: openai in /usr/local/python/3.12.1/lib/python3.12/site-packages (1.97.0)\n",
      "Requirement already satisfied: httpx==0.27.2 in /usr/local/python/3.12.1/lib/python3.12/site-packages (0.27.2)\n",
      "Requirement already satisfied: langchain-pinecone in /usr/local/python/3.12.1/lib/python3.12/site-packages (0.2.9)\n",
      "Requirement already satisfied: langchain-text-splitters in /usr/local/python/3.12.1/lib/python3.12/site-packages (0.3.8)\n",
      "Requirement already satisfied: anyio in /home/codespace/.local/lib/python3.12/site-packages (from httpx==0.27.2) (4.9.0)\n",
      "Requirement already satisfied: certifi in /home/codespace/.local/lib/python3.12/site-packages (from httpx==0.27.2) (2025.7.9)\n",
      "Requirement already satisfied: httpcore==1.* in /home/codespace/.local/lib/python3.12/site-packages (from httpx==0.27.2) (1.0.9)\n",
      "Requirement already satisfied: idna in /home/codespace/.local/lib/python3.12/site-packages (from httpx==0.27.2) (3.10)\n",
      "Requirement already satisfied: sniffio in /home/codespace/.local/lib/python3.12/site-packages (from httpx==0.27.2) (1.3.1)\n",
      "Requirement already satisfied: h11>=0.16 in /home/codespace/.local/lib/python3.12/site-packages (from httpcore==1.*->httpx==0.27.2) (0.16.0)\n",
      "Requirement already satisfied: distro<2,>=1.7.0 in /usr/local/python/3.12.1/lib/python3.12/site-packages (from openai) (1.9.0)Requirement already satisfied: anyio in /home/codespace/.local/lib/python3.12/site-packages (from httpx==0.27.2) (4.9.0)\n",
      "Requirement already satisfied: certifi in /home/codespace/.local/lib/python3.12/site-packages (from httpx==0.27.2) (2025.7.9)\n",
      "Requirement already satisfied: httpcore==1.* in /home/codespace/.local/lib/python3.12/site-packages (from httpx==0.27.2) (1.0.9)\n",
      "Requirement already satisfied: idna in /home/codespace/.local/lib/python3.12/site-packages (from httpx==0.27.2) (3.10)\n",
      "Requirement already satisfied: sniffio in /home/codespace/.local/lib/python3.12/site-packages (from httpx==0.27.2) (1.3.1)\n",
      "Requirement already satisfied: h11>=0.16 in /home/codespace/.local/lib/python3.12/site-packages (from httpcore==1.*->httpx==0.27.2) (0.16.0)\n",
      "Requirement already satisfied: distro<2,>=1.7.0 in /usr/local/python/3.12.1/lib/python3.12/site-packages (from openai) (1.9.0)\n",
      "Requirement already satisfied: jiter<1,>=0.4.0 in /usr/local/python/3.12.1/lib/python3.12/site-packages (from openai) (0.10.0)\n",
      "Requirement already satisfied: pydantic<3,>=1.9.0 in /usr/local/python/3.12.1/lib/python3.12/site-packages (from openai) (2.11.7)\n",
      "Requirement already satisfied: tqdm>4 in /usr/local/python/3.12.1/lib/python3.12/site-packages (from openai) (4.67.1)\n",
      "Requirement already satisfied: typing-extensions<5,>=4.11 in /home/codespace/.local/lib/python3.12/site-packages (from openai) (4.14.1)\n",
      "\n",
      "Requirement already satisfied: jiter<1,>=0.4.0 in /usr/local/python/3.12.1/lib/python3.12/site-packages (from openai) (0.10.0)\n",
      "Requirement already satisfied: pydantic<3,>=1.9.0 in /usr/local/python/3.12.1/lib/python3.12/site-packages (from openai) (2.11.7)\n",
      "Requirement already satisfied: tqdm>4 in /usr/local/python/3.12.1/lib/python3.12/site-packages (from openai) (4.67.1)\n",
      "Requirement already satisfied: typing-extensions<5,>=4.11 in /home/codespace/.local/lib/python3.12/site-packages (from openai) (4.14.1)\n",
      "Requirement already satisfied: annotated-types>=0.6.0 in /usr/local/python/3.12.1/lib/python3.12/site-packages (from pydantic<3,>=1.9.0->openai) (0.7.0)\n",
      "Requirement already satisfied: pydantic-core==2.33.2 in /usr/local/python/3.12.1/lib/python3.12/site-packages (from pydantic<3,>=1.9.0->openai) (2.33.2)\n",
      "Requirement already satisfied: typing-inspection>=0.4.0 in /usr/local/python/3.12.1/lib/python3.12/site-packages (from pydantic<3,>=1.9.0->openai) (0.4.1)\n",
      "Requirement already satisfied: langchain-core<1.0.0,>=0.3.34 in /usr/local/python/3.12.1/lib/python3.12/site-packages (from langchain-pinecone) (0.3.69)\n",
      "Requirement already satisfied: annotated-types>=0.6.0 in /usr/local/python/3.12.1/lib/python3.12/site-packages (from pydantic<3,>=1.9.0->openai) (0.7.0)\n",
      "Requirement already satisfied: pydantic-core==2.33.2 in /usr/local/python/3.12.1/lib/python3.12/site-packages (from pydantic<3,>=1.9.0->openai) (2.33.2)\n",
      "Requirement already satisfied: typing-inspection>=0.4.0 in /usr/local/python/3.12.1/lib/python3.12/site-packages (from pydantic<3,>=1.9.0->openai) (0.4.1)\n",
      "Requirement already satisfied: langchain-core<1.0.0,>=0.3.34 in /usr/local/python/3.12.1/lib/python3.12/site-packages (from langchain-pinecone) (0.3.69)\n",
      "Requirement already satisfied: pinecone<8.0.0,>=6.0.0 in /usr/local/python/3.12.1/lib/python3.12/site-packages (from pinecone[asyncio]<8.0.0,>=6.0.0->langchain-pinecone) (7.3.0)\n",
      "Requirement already satisfied: numpy>=1.26.4 in /home/codespace/.local/lib/python3.12/site-packages (from langchain-pinecone) (2.3.1)\n",
      "Requirement already satisfied: langchain-tests<1.0.0,>=0.3.7 in /usr/local/python/3.12.1/lib/python3.12/site-packages (from langchain-pinecone) (0.3.20)\n",
      "Requirement already satisfied: langchain-openai>=0.3.11 in /usr/local/python/3.12.1/lib/python3.12/site-packages (from langchain-pinecone) (0.3.28)\n",
      "Requirement already satisfied: langsmith>=0.3.45 in /usr/local/python/3.12.1/lib/python3.12/site-packages (from langchain-core<1.0.0,>=0.3.34->langchain-pinecone) (0.4.8)\n",
      "Requirement already satisfied: tenacity!=8.4.0,<10.0.0,>=8.1.0 in /usr/local/python/3.12.1/lib/python3.12/site-packages (from langchain-core<1.0.0,>=0.3.34->langchain-pinecone) (9.1.2)\n",
      "Requirement already satisfied: jsonpatch<2.0,>=1.33 in /usr/local/python/3.12.1/lib/python3.12/site-packages (from langchain-core<1.0.0,>=0.3.34->langchain-pinecone) (1.33)\n",
      "Requirement already satisfied: PyYAML>=5.3 in /home/codespace/.local/lib/python3.12/site-packages (from langchain-core<1.0.0,>=0.3.34->langchain-pinecone) (6.0.2)\n",
      "Requirement already satisfied: packaging>=23.2 in /usr/local/python/3.12.1/lib/python3.12/site-packages (from langchain-core<1.0.0,>=0.3.34->langchain-pinecone) (24.2)\n",
      "Requirement already satisfied: jsonpointer>=1.9 in /home/codespace/.local/lib/python3.12/site-packages (from jsonpatch<2.0,>=1.33->langchain-core<1.0.0,>=0.3.34->langchain-pinecone) (3.0.0)\n",
      "Requirement already satisfied: pinecone<8.0.0,>=6.0.0 in /usr/local/python/3.12.1/lib/python3.12/site-packages (from pinecone[asyncio]<8.0.0,>=6.0.0->langchain-pinecone) (7.3.0)\n",
      "Requirement already satisfied: numpy>=1.26.4 in /home/codespace/.local/lib/python3.12/site-packages (from langchain-pinecone) (2.3.1)\n",
      "Requirement already satisfied: langchain-tests<1.0.0,>=0.3.7 in /usr/local/python/3.12.1/lib/python3.12/site-packages (from langchain-pinecone) (0.3.20)\n",
      "Requirement already satisfied: langchain-openai>=0.3.11 in /usr/local/python/3.12.1/lib/python3.12/site-packages (from langchain-pinecone) (0.3.28)\n",
      "Requirement already satisfied: langsmith>=0.3.45 in /usr/local/python/3.12.1/lib/python3.12/site-packages (from langchain-core<1.0.0,>=0.3.34->langchain-pinecone) (0.4.8)\n",
      "Requirement already satisfied: tenacity!=8.4.0,<10.0.0,>=8.1.0 in /usr/local/python/3.12.1/lib/python3.12/site-packages (from langchain-core<1.0.0,>=0.3.34->langchain-pinecone) (9.1.2)\n",
      "Requirement already satisfied: jsonpatch<2.0,>=1.33 in /usr/local/python/3.12.1/lib/python3.12/site-packages (from langchain-core<1.0.0,>=0.3.34->langchain-pinecone) (1.33)\n",
      "Requirement already satisfied: PyYAML>=5.3 in /home/codespace/.local/lib/python3.12/site-packages (from langchain-core<1.0.0,>=0.3.34->langchain-pinecone) (6.0.2)\n",
      "Requirement already satisfied: packaging>=23.2 in /usr/local/python/3.12.1/lib/python3.12/site-packages (from langchain-core<1.0.0,>=0.3.34->langchain-pinecone) (24.2)\n",
      "Requirement already satisfied: jsonpointer>=1.9 in /home/codespace/.local/lib/python3.12/site-packages (from jsonpatch<2.0,>=1.33->langchain-core<1.0.0,>=0.3.34->langchain-pinecone) (3.0.0)\n",
      "Requirement already satisfied: pytest<9,>=7 in /usr/local/python/3.12.1/lib/python3.12/site-packages (from langchain-tests<1.0.0,>=0.3.7->langchain-pinecone) (8.4.1)\n",
      "Requirement already satisfied: pytest-asyncio<1,>=0.20 in /usr/local/python/3.12.1/lib/python3.12/site-packages (from langchain-tests<1.0.0,>=0.3.7->langchain-pinecone) (0.26.0)\n",
      "Requirement already satisfied: syrupy<5,>=4 in /usr/local/python/3.12.1/lib/python3.12/site-packages (from langchain-tests<1.0.0,>=0.3.7->langchain-pinecone) (4.9.1)\n",
      "Requirement already satisfied: pytest-socket<1,>=0.6.0 in /usr/local/python/3.12.1/lib/python3.12/site-packages (from langchain-tests<1.0.0,>=0.3.7->langchain-pinecone) (0.7.0)\n",
      "Requirement already satisfied: pytest-benchmark in /usr/local/python/3.12.1/lib/python3.12/site-packages (from langchain-tests<1.0.0,>=0.3.7->langchain-pinecone) (5.1.0)\n",
      "Requirement already satisfied: pytest-codspeed in /usr/local/python/3.12.1/lib/python3.12/site-packages (from langchain-tests<1.0.0,>=0.3.7->langchain-pinecone) (4.0.0)\n",
      "Requirement already satisfied: pytest-recording in /usr/local/python/3.12.1/lib/python3.12/site-packages (from langchain-tests<1.0.0,>=0.3.7->langchain-pinecone) (0.13.4)\n",
      "Requirement already satisfied: vcrpy>=7.0 in /usr/local/python/3.12.1/lib/python3.12/site-packages (from langchain-tests<1.0.0,>=0.3.7->langchain-pinecone) (7.0.0)\n",
      "Requirement already satisfied: pytest<9,>=7 in /usr/local/python/3.12.1/lib/python3.12/site-packages (from langchain-tests<1.0.0,>=0.3.7->langchain-pinecone) (8.4.1)\n",
      "Requirement already satisfied: pytest-asyncio<1,>=0.20 in /usr/local/python/3.12.1/lib/python3.12/site-packages (from langchain-tests<1.0.0,>=0.3.7->langchain-pinecone) (0.26.0)\n",
      "Requirement already satisfied: syrupy<5,>=4 in /usr/local/python/3.12.1/lib/python3.12/site-packages (from langchain-tests<1.0.0,>=0.3.7->langchain-pinecone) (4.9.1)\n",
      "Requirement already satisfied: pytest-socket<1,>=0.6.0 in /usr/local/python/3.12.1/lib/python3.12/site-packages (from langchain-tests<1.0.0,>=0.3.7->langchain-pinecone) (0.7.0)\n",
      "Requirement already satisfied: pytest-benchmark in /usr/local/python/3.12.1/lib/python3.12/site-packages (from langchain-tests<1.0.0,>=0.3.7->langchain-pinecone) (5.1.0)\n",
      "Requirement already satisfied: pytest-codspeed in /usr/local/python/3.12.1/lib/python3.12/site-packages (from langchain-tests<1.0.0,>=0.3.7->langchain-pinecone) (4.0.0)\n",
      "Requirement already satisfied: pytest-recording in /usr/local/python/3.12.1/lib/python3.12/site-packages (from langchain-tests<1.0.0,>=0.3.7->langchain-pinecone) (0.13.4)\n",
      "Requirement already satisfied: vcrpy>=7.0 in /usr/local/python/3.12.1/lib/python3.12/site-packages (from langchain-tests<1.0.0,>=0.3.7->langchain-pinecone) (7.0.0)\n",
      "Requirement already satisfied: pinecone-plugin-assistant<2.0.0,>=1.6.0 in /usr/local/python/3.12.1/lib/python3.12/site-packages (from pinecone<8.0.0,>=6.0.0->pinecone[asyncio]<8.0.0,>=6.0.0->langchain-pinecone) (1.7.0)\n",
      "Requirement already satisfied: pinecone-plugin-interface<0.0.8,>=0.0.7 in /usr/local/python/3.12.1/lib/python3.12/site-packages (from pinecone<8.0.0,>=6.0.0->pinecone[asyncio]<8.0.0,>=6.0.0->langchain-pinecone) (0.0.7)\n",
      "Requirement already satisfied: python-dateutil>=2.5.3 in /home/codespace/.local/lib/python3.12/site-packages (from pinecone<8.0.0,>=6.0.0->pinecone[asyncio]<8.0.0,>=6.0.0->langchain-pinecone) (2.9.0.post0)\n",
      "Requirement already satisfied: urllib3>=1.26.5 in /home/codespace/.local/lib/python3.12/site-packages (from pinecone<8.0.0,>=6.0.0->pinecone[asyncio]<8.0.0,>=6.0.0->langchain-pinecone) (2.5.0)\n",
      "Requirement already satisfied: requests<3.0.0,>=2.32.3 in /home/codespace/.local/lib/python3.12/site-packages (from pinecone-plugin-assistant<2.0.0,>=1.6.0->pinecone<8.0.0,>=6.0.0->pinecone[asyncio]<8.0.0,>=6.0.0->langchain-pinecone) (2.32.4)\n",
      "Requirement already satisfied: pinecone-plugin-assistant<2.0.0,>=1.6.0 in /usr/local/python/3.12.1/lib/python3.12/site-packages (from pinecone<8.0.0,>=6.0.0->pinecone[asyncio]<8.0.0,>=6.0.0->langchain-pinecone) (1.7.0)\n",
      "Requirement already satisfied: pinecone-plugin-interface<0.0.8,>=0.0.7 in /usr/local/python/3.12.1/lib/python3.12/site-packages (from pinecone<8.0.0,>=6.0.0->pinecone[asyncio]<8.0.0,>=6.0.0->langchain-pinecone) (0.0.7)\n",
      "Requirement already satisfied: python-dateutil>=2.5.3 in /home/codespace/.local/lib/python3.12/site-packages (from pinecone<8.0.0,>=6.0.0->pinecone[asyncio]<8.0.0,>=6.0.0->langchain-pinecone) (2.9.0.post0)\n",
      "Requirement already satisfied: urllib3>=1.26.5 in /home/codespace/.local/lib/python3.12/site-packages (from pinecone<8.0.0,>=6.0.0->pinecone[asyncio]<8.0.0,>=6.0.0->langchain-pinecone) (2.5.0)\n",
      "Requirement already satisfied: requests<3.0.0,>=2.32.3 in /home/codespace/.local/lib/python3.12/site-packages (from pinecone-plugin-assistant<2.0.0,>=1.6.0->pinecone<8.0.0,>=6.0.0->pinecone[asyncio]<8.0.0,>=6.0.0->langchain-pinecone) (2.32.4)\n",
      "Requirement already satisfied: aiohttp>=3.9.0 in /usr/local/python/3.12.1/lib/python3.12/site-packages (from pinecone[asyncio]<8.0.0,>=6.0.0->langchain-pinecone) (3.12.14)\n",
      "Requirement already satisfied: aiohttp-retry<3.0.0,>=2.9.1 in /usr/local/python/3.12.1/lib/python3.12/site-packages (from pinecone[asyncio]<8.0.0,>=6.0.0->langchain-pinecone) (2.9.1)\n",
      "Requirement already satisfied: iniconfig>=1 in /usr/local/python/3.12.1/lib/python3.12/site-packages (from pytest<9,>=7->langchain-tests<1.0.0,>=0.3.7->langchain-pinecone) (2.1.0)\n",
      "Requirement already satisfied: pluggy<2,>=1.5 in /usr/local/python/3.12.1/lib/python3.12/site-packages (from pytest<9,>=7->langchain-tests<1.0.0,>=0.3.7->langchain-pinecone) (1.6.0)\n",
      "Requirement already satisfied: aiohttp>=3.9.0 in /usr/local/python/3.12.1/lib/python3.12/site-packages (from pinecone[asyncio]<8.0.0,>=6.0.0->langchain-pinecone) (3.12.14)\n",
      "Requirement already satisfied: aiohttp-retry<3.0.0,>=2.9.1 in /usr/local/python/3.12.1/lib/python3.12/site-packages (from pinecone[asyncio]<8.0.0,>=6.0.0->langchain-pinecone) (2.9.1)\n",
      "Requirement already satisfied: iniconfig>=1 in /usr/local/python/3.12.1/lib/python3.12/site-packages (from pytest<9,>=7->langchain-tests<1.0.0,>=0.3.7->langchain-pinecone) (2.1.0)\n",
      "Requirement already satisfied: pluggy<2,>=1.5 in /usr/local/python/3.12.1/lib/python3.12/site-packages (from pytest<9,>=7->langchain-tests<1.0.0,>=0.3.7->langchain-pinecone) (1.6.0)\n",
      "Requirement already satisfied: pygments>=2.7.2 in /home/codespace/.local/lib/python3.12/site-packages (from pytest<9,>=7->langchain-tests<1.0.0,>=0.3.7->langchain-pinecone) (2.19.2)\n",
      "Requirement already satisfied: pygments>=2.7.2 in /home/codespace/.local/lib/python3.12/site-packages (from pytest<9,>=7->langchain-tests<1.0.0,>=0.3.7->langchain-pinecone) (2.19.2)\n",
      "Requirement already satisfied: charset_normalizer<4,>=2 in /home/codespace/.local/lib/python3.12/site-packages (from requests<3.0.0,>=2.32.3->pinecone-plugin-assistant<2.0.0,>=1.6.0->pinecone<8.0.0,>=6.0.0->pinecone[asyncio]<8.0.0,>=6.0.0->langchain-pinecone) (3.4.2)\n",
      "Requirement already satisfied: charset_normalizer<4,>=2 in /home/codespace/.local/lib/python3.12/site-packages (from requests<3.0.0,>=2.32.3->pinecone-plugin-assistant<2.0.0,>=1.6.0->pinecone<8.0.0,>=6.0.0->pinecone[asyncio]<8.0.0,>=6.0.0->langchain-pinecone) (3.4.2)\n",
      "Requirement already satisfied: aiohappyeyeballs>=2.5.0 in /usr/local/python/3.12.1/lib/python3.12/site-packages (from aiohttp>=3.9.0->pinecone[asyncio]<8.0.0,>=6.0.0->langchain-pinecone) (2.6.1)\n",
      "Requirement already satisfied: aiosignal>=1.4.0 in /usr/local/python/3.12.1/lib/python3.12/site-packages (from aiohttp>=3.9.0->pinecone[asyncio]<8.0.0,>=6.0.0->langchain-pinecone) (1.4.0)\n",
      "Requirement already satisfied: attrs>=17.3.0 in /home/codespace/.local/lib/python3.12/site-packages (from aiohttp>=3.9.0->pinecone[asyncio]<8.0.0,>=6.0.0->langchain-pinecone) (25.3.0)\n",
      "Requirement already satisfied: frozenlist>=1.1.1 in /usr/local/python/3.12.1/lib/python3.12/site-packages (from aiohttp>=3.9.0->pinecone[asyncio]<8.0.0,>=6.0.0->langchain-pinecone) (1.7.0)\n",
      "Requirement already satisfied: multidict<7.0,>=4.5 in /usr/local/python/3.12.1/lib/python3.12/site-packages (from aiohttp>=3.9.0->pinecone[asyncio]<8.0.0,>=6.0.0->langchain-pinecone) (6.6.3)\n",
      "Requirement already satisfied: propcache>=0.2.0 in /usr/local/python/3.12.1/lib/python3.12/site-packages (from aiohttp>=3.9.0->pinecone[asyncio]<8.0.0,>=6.0.0->langchain-pinecone) (0.3.2)\n",
      "Requirement already satisfied: yarl<2.0,>=1.17.0 in /usr/local/python/3.12.1/lib/python3.12/site-packages (from aiohttp>=3.9.0->pinecone[asyncio]<8.0.0,>=6.0.0->langchain-pinecone) (1.20.1)\n",
      "Requirement already satisfied: aiohappyeyeballs>=2.5.0 in /usr/local/python/3.12.1/lib/python3.12/site-packages (from aiohttp>=3.9.0->pinecone[asyncio]<8.0.0,>=6.0.0->langchain-pinecone) (2.6.1)\n",
      "Requirement already satisfied: aiosignal>=1.4.0 in /usr/local/python/3.12.1/lib/python3.12/site-packages (from aiohttp>=3.9.0->pinecone[asyncio]<8.0.0,>=6.0.0->langchain-pinecone) (1.4.0)\n",
      "Requirement already satisfied: attrs>=17.3.0 in /home/codespace/.local/lib/python3.12/site-packages (from aiohttp>=3.9.0->pinecone[asyncio]<8.0.0,>=6.0.0->langchain-pinecone) (25.3.0)\n",
      "Requirement already satisfied: frozenlist>=1.1.1 in /usr/local/python/3.12.1/lib/python3.12/site-packages (from aiohttp>=3.9.0->pinecone[asyncio]<8.0.0,>=6.0.0->langchain-pinecone) (1.7.0)\n",
      "Requirement already satisfied: multidict<7.0,>=4.5 in /usr/local/python/3.12.1/lib/python3.12/site-packages (from aiohttp>=3.9.0->pinecone[asyncio]<8.0.0,>=6.0.0->langchain-pinecone) (6.6.3)\n",
      "Requirement already satisfied: propcache>=0.2.0 in /usr/local/python/3.12.1/lib/python3.12/site-packages (from aiohttp>=3.9.0->pinecone[asyncio]<8.0.0,>=6.0.0->langchain-pinecone) (0.3.2)\n",
      "Requirement already satisfied: yarl<2.0,>=1.17.0 in /usr/local/python/3.12.1/lib/python3.12/site-packages (from aiohttp>=3.9.0->pinecone[asyncio]<8.0.0,>=6.0.0->langchain-pinecone) (1.20.1)\n",
      "Requirement already satisfied: tiktoken<1,>=0.7 in /usr/local/python/3.12.1/lib/python3.12/site-packages (from langchain-openai>=0.3.11->langchain-pinecone) (0.9.0)\n",
      "Requirement already satisfied: regex>=2022.1.18 in /usr/local/python/3.12.1/lib/python3.12/site-packages (from tiktoken<1,>=0.7->langchain-openai>=0.3.11->langchain-pinecone) (2024.11.6)\n",
      "Requirement already satisfied: tiktoken<1,>=0.7 in /usr/local/python/3.12.1/lib/python3.12/site-packages (from langchain-openai>=0.3.11->langchain-pinecone) (0.9.0)\n",
      "Requirement already satisfied: regex>=2022.1.18 in /usr/local/python/3.12.1/lib/python3.12/site-packages (from tiktoken<1,>=0.7->langchain-openai>=0.3.11->langchain-pinecone) (2024.11.6)\n",
      "Requirement already satisfied: orjson<4.0.0,>=3.9.14 in /usr/local/python/3.12.1/lib/python3.12/site-packages (from langsmith>=0.3.45->langchain-core<1.0.0,>=0.3.34->langchain-pinecone) (3.11.0)\n",
      "Requirement already satisfied: requests-toolbelt<2.0.0,>=1.0.0 in /usr/local/python/3.12.1/lib/python3.12/site-packages (from langsmith>=0.3.45->langchain-core<1.0.0,>=0.3.34->langchain-pinecone) (1.0.0)\n",
      "Requirement already satisfied: zstandard<0.24.0,>=0.23.0 in /usr/local/python/3.12.1/lib/python3.12/site-packages (from langsmith>=0.3.45->langchain-core<1.0.0,>=0.3.34->langchain-pinecone) (0.23.0)\n",
      "Requirement already satisfied: orjson<4.0.0,>=3.9.14 in /usr/local/python/3.12.1/lib/python3.12/site-packages (from langsmith>=0.3.45->langchain-core<1.0.0,>=0.3.34->langchain-pinecone) (3.11.0)\n",
      "Requirement already satisfied: requests-toolbelt<2.0.0,>=1.0.0 in /usr/local/python/3.12.1/lib/python3.12/site-packages (from langsmith>=0.3.45->langchain-core<1.0.0,>=0.3.34->langchain-pinecone) (1.0.0)\n",
      "Requirement already satisfied: zstandard<0.24.0,>=0.23.0 in /usr/local/python/3.12.1/lib/python3.12/site-packages (from langsmith>=0.3.45->langchain-core<1.0.0,>=0.3.34->langchain-pinecone) (0.23.0)\n",
      "Requirement already satisfied: six>=1.5 in /home/codespace/.local/lib/python3.12/site-packages (from python-dateutil>=2.5.3->pinecone<8.0.0,>=6.0.0->pinecone[asyncio]<8.0.0,>=6.0.0->langchain-pinecone) (1.17.0)\n",
      "Requirement already satisfied: six>=1.5 in /home/codespace/.local/lib/python3.12/site-packages (from python-dateutil>=2.5.3->pinecone<8.0.0,>=6.0.0->pinecone[asyncio]<8.0.0,>=6.0.0->langchain-pinecone) (1.17.0)\n",
      "Requirement already satisfied: wrapt in /usr/local/python/3.12.1/lib/python3.12/site-packages (from vcrpy>=7.0->langchain-tests<1.0.0,>=0.3.7->langchain-pinecone) (1.17.2)\n",
      "Requirement already satisfied: wrapt in /usr/local/python/3.12.1/lib/python3.12/site-packages (from vcrpy>=7.0->langchain-tests<1.0.0,>=0.3.7->langchain-pinecone) (1.17.2)\n",
      "Requirement already satisfied: py-cpuinfo in /usr/local/python/3.12.1/lib/python3.12/site-packages (from pytest-benchmark->langchain-tests<1.0.0,>=0.3.7->langchain-pinecone) (9.0.0)\n",
      "Requirement already satisfied: py-cpuinfo in /usr/local/python/3.12.1/lib/python3.12/site-packages (from pytest-benchmark->langchain-tests<1.0.0,>=0.3.7->langchain-pinecone) (9.0.0)\n",
      "Requirement already satisfied: cffi>=1.17.1 in /home/codespace/.local/lib/python3.12/site-packages (from pytest-codspeed->langchain-tests<1.0.0,>=0.3.7->langchain-pinecone) (1.17.1)\n",
      "Requirement already satisfied: rich>=13.8.1 in /usr/local/python/3.12.1/lib/python3.12/site-packages (from pytest-codspeed->langchain-tests<1.0.0,>=0.3.7->langchain-pinecone) (14.0.0)\n",
      "Requirement already satisfied: pycparser in /home/codespace/.local/lib/python3.12/site-packages (from cffi>=1.17.1->pytest-codspeed->langchain-tests<1.0.0,>=0.3.7->langchain-pinecone) (2.22)\n",
      "Requirement already satisfied: markdown-it-py>=2.2.0 in /usr/local/python/3.12.1/lib/python3.12/site-packages (from rich>=13.8.1->pytest-codspeed->langchain-tests<1.0.0,>=0.3.7->langchain-pinecone) (3.0.0)\n",
      "Requirement already satisfied: mdurl~=0.1 in /usr/local/python/3.12.1/lib/python3.12/site-packages (from markdown-it-py>=2.2.0->rich>=13.8.1->pytest-codspeed->langchain-tests<1.0.0,>=0.3.7->langchain-pinecone) (0.1.2)Requirement already satisfied: cffi>=1.17.1 in /home/codespace/.local/lib/python3.12/site-packages (from pytest-codspeed->langchain-tests<1.0.0,>=0.3.7->langchain-pinecone) (1.17.1)\n",
      "Requirement already satisfied: rich>=13.8.1 in /usr/local/python/3.12.1/lib/python3.12/site-packages (from pytest-codspeed->langchain-tests<1.0.0,>=0.3.7->langchain-pinecone) (14.0.0)\n",
      "Requirement already satisfied: pycparser in /home/codespace/.local/lib/python3.12/site-packages (from cffi>=1.17.1->pytest-codspeed->langchain-tests<1.0.0,>=0.3.7->langchain-pinecone) (2.22)\n",
      "Requirement already satisfied: markdown-it-py>=2.2.0 in /usr/local/python/3.12.1/lib/python3.12/site-packages (from rich>=13.8.1->pytest-codspeed->langchain-tests<1.0.0,>=0.3.7->langchain-pinecone) (3.0.0)\n",
      "Requirement already satisfied: mdurl~=0.1 in /usr/local/python/3.12.1/lib/python3.12/site-packages (from markdown-it-py>=2.2.0->rich>=13.8.1->pytest-codspeed->langchain-tests<1.0.0,>=0.3.7->langchain-pinecone) (0.1.2)\n",
      "\n",
      "Note: you may need to restart the kernel to use updated packages.\n",
      "Note: you may need to restart the kernel to use updated packages.\n"
     ]
    }
   ],
   "source": [
    "# Install the OpenAI Python package and LangChain components.\n",
    "%pip install openai httpx==0.27.2 langchain-pinecone langchain-text-splitters"
   ]
  },
  {
   "cell_type": "code",
   "execution_count": 2,
   "metadata": {},
   "outputs": [],
   "source": [
    "# Import secrets from the environment or a .env file or \n",
    "try:\n",
    "  from google.colab import userdata\n",
    "  OPENAI_API_KEY = userdata.get('OPENAI_API_KEY')\n",
    "  OPENAI_BASE = userdata.get('OPENAI_BASE', 'https://47v4us7kyypinfb5lcligtc3x40ygqbs.lambda-url.us-east-1.on.aws/v1/')\n",
    "  PINECONE_API_KEY = userdata.get('PINECONE_API_KEY')\n",
    "except ImportError:\n",
    "  import os\n",
    "  OPENAI_API_KEY = os.getenv('OPENAI_API_KEY')\n",
    "  OPENAI_BASE = os.getenv('OPENAI_BASE', 'https://47v4us7kyypinfb5lcligtc3x40ygqbs.lambda-url.us-east-1.on.aws/v1/')\n",
    "  PINECONE_API_KEY = os.getenv('PINECONE_API_KEY')"
   ]
  },
  {
   "cell_type": "markdown",
   "metadata": {
    "id": "IKJf-dPLwXMu"
   },
   "source": [
    "**IMPORTANT: If you are going to use our custom API Key then make sure that you also use custom base URL as in example below. Otherwise it will not work.**"
   ]
  },
  {
   "cell_type": "code",
   "execution_count": 2,
   "metadata": {
    "id": "caEG5zIMw8DV"
   },
   "outputs": [
    {
     "name": "stdout",
     "output_type": "stream",
     "text": [
      "ChatCompletionMessage(content='Hello! How can I assist you today?', refusal=None, role='assistant', annotations=[], audio=None, function_call=None, tool_calls=None)\n"
     ]
    }
   ],
   "source": [
    "# Code example of OpenAI communication\n",
    "from openai import OpenAI\n",
    "\n",
    "client = OpenAI(\n",
    "    # In order to use provided API key, make sure that models you create point to this custom base URL.\n",
    "    base_url=OPENAI_BASE,\n",
    "    # The temporary API key giving access to ChatGPT 4o model. Quotas apply: you have 500'000 input and 500'000 output tokens, use them wisely ;)\n",
    "    api_key=OPENAI_API_KEY\n",
    ")\n",
    "\n",
    "completion = client.chat.completions.create(\n",
    "  model=\"gpt-4o\",\n",
    "  messages=[\n",
    "    {\"role\": \"user\", \"content\": \"Hello!\"}\n",
    "  ]\n",
    ")\n",
    "\n",
    "print(completion.choices[0].message)"
   ]
  },
  {
   "cell_type": "code",
   "execution_count": 3,
   "metadata": {
    "id": "shE97VzGwZ4v"
   },
   "outputs": [
    {
     "data": {
      "text/html": [
       "<div>\n",
       "<style scoped>\n",
       "    .dataframe tbody tr th:only-of-type {\n",
       "        vertical-align: middle;\n",
       "    }\n",
       "\n",
       "    .dataframe tbody tr th {\n",
       "        vertical-align: top;\n",
       "    }\n",
       "\n",
       "    .dataframe thead th {\n",
       "        text-align: right;\n",
       "    }\n",
       "</style>\n",
       "<table border=\"1\" class=\"dataframe\">\n",
       "  <thead>\n",
       "    <tr style=\"text-align: right;\">\n",
       "      <th></th>\n",
       "      <th>product_id</th>\n",
       "      <th>name</th>\n",
       "      <th>category</th>\n",
       "      <th>description</th>\n",
       "      <th>stock</th>\n",
       "      <th>seasons</th>\n",
       "      <th>price</th>\n",
       "    </tr>\n",
       "  </thead>\n",
       "  <tbody>\n",
       "    <tr>\n",
       "      <th>0</th>\n",
       "      <td>RSG8901</td>\n",
       "      <td>Retro Sunglasses</td>\n",
       "      <td>Accessories</td>\n",
       "      <td>Transport yourself back in time with our retro...</td>\n",
       "      <td>1</td>\n",
       "      <td>Spring, Summer</td>\n",
       "      <td>26.99</td>\n",
       "    </tr>\n",
       "    <tr>\n",
       "      <th>1</th>\n",
       "      <td>SWL2345</td>\n",
       "      <td>Sleek Wallet</td>\n",
       "      <td>Accessories</td>\n",
       "      <td>Keep your essentials organized and secure with...</td>\n",
       "      <td>5</td>\n",
       "      <td>All seasons</td>\n",
       "      <td>30.00</td>\n",
       "    </tr>\n",
       "    <tr>\n",
       "      <th>2</th>\n",
       "      <td>VSC6789</td>\n",
       "      <td>Versatile Scarf</td>\n",
       "      <td>Accessories</td>\n",
       "      <td>Add a touch of versatility to your wardrobe wi...</td>\n",
       "      <td>6</td>\n",
       "      <td>Spring, Fall</td>\n",
       "      <td>23.00</td>\n",
       "    </tr>\n",
       "  </tbody>\n",
       "</table>\n",
       "</div>"
      ],
      "text/plain": [
       "  product_id              name     category  \\\n",
       "0    RSG8901  Retro Sunglasses  Accessories   \n",
       "1    SWL2345      Sleek Wallet  Accessories   \n",
       "2    VSC6789   Versatile Scarf  Accessories   \n",
       "\n",
       "                                         description  stock         seasons  \\\n",
       "0  Transport yourself back in time with our retro...      1  Spring, Summer   \n",
       "1  Keep your essentials organized and secure with...      5     All seasons   \n",
       "2  Add a touch of versatility to your wardrobe wi...      6    Spring, Fall   \n",
       "\n",
       "   price  \n",
       "0  26.99  \n",
       "1  30.00  \n",
       "2  23.00  "
      ]
     },
     "metadata": {},
     "output_type": "display_data"
    },
    {
     "data": {
      "text/html": [
       "<div>\n",
       "<style scoped>\n",
       "    .dataframe tbody tr th:only-of-type {\n",
       "        vertical-align: middle;\n",
       "    }\n",
       "\n",
       "    .dataframe tbody tr th {\n",
       "        vertical-align: top;\n",
       "    }\n",
       "\n",
       "    .dataframe thead th {\n",
       "        text-align: right;\n",
       "    }\n",
       "</style>\n",
       "<table border=\"1\" class=\"dataframe\">\n",
       "  <thead>\n",
       "    <tr style=\"text-align: right;\">\n",
       "      <th></th>\n",
       "      <th>email_id</th>\n",
       "      <th>subject</th>\n",
       "      <th>message</th>\n",
       "    </tr>\n",
       "  </thead>\n",
       "  <tbody>\n",
       "    <tr>\n",
       "      <th>0</th>\n",
       "      <td>E001</td>\n",
       "      <td>Leather Wallets</td>\n",
       "      <td>Hi there, I want to order all the remaining LT...</td>\n",
       "    </tr>\n",
       "    <tr>\n",
       "      <th>1</th>\n",
       "      <td>E002</td>\n",
       "      <td>Buy Vibrant Tote with noise</td>\n",
       "      <td>Good morning, I'm looking to buy the VBT2345 V...</td>\n",
       "    </tr>\n",
       "    <tr>\n",
       "      <th>2</th>\n",
       "      <td>E003</td>\n",
       "      <td>Need your help</td>\n",
       "      <td>Hello, I need a new bag to carry my laptop and...</td>\n",
       "    </tr>\n",
       "  </tbody>\n",
       "</table>\n",
       "</div>"
      ],
      "text/plain": [
       "  email_id                      subject  \\\n",
       "0     E001              Leather Wallets   \n",
       "1     E002  Buy Vibrant Tote with noise   \n",
       "2     E003               Need your help   \n",
       "\n",
       "                                             message  \n",
       "0  Hi there, I want to order all the remaining LT...  \n",
       "1  Good morning, I'm looking to buy the VBT2345 V...  \n",
       "2  Hello, I need a new bag to carry my laptop and...  "
      ]
     },
     "metadata": {},
     "output_type": "display_data"
    }
   ],
   "source": [
    "# Code example of reading input data\n",
    "\n",
    "import pandas as pd\n",
    "from IPython.display import display\n",
    "\n",
    "def read_data_frame(document_id, sheet_name):\n",
    "    export_link = f\"https://docs.google.com/spreadsheets/d/{document_id}/gviz/tq?tqx=out:csv&sheet={sheet_name}\"\n",
    "    return  pd.read_csv(export_link)\n",
    "\n",
    "document_id = '14fKHsblfqZfWj3iAaM2oA51TlYfQlFT4WKo52fVaQ9U'\n",
    "products_df = read_data_frame(document_id, 'products')\n",
    "emails_df = read_data_frame(document_id, 'emails')\n",
    "\n",
    "# Display first 3 rows of each DataFrame\n",
    "display(products_df.head(3))\n",
    "display(emails_df.head(3))"
   ]
  },
  {
   "cell_type": "code",
   "execution_count": 4,
   "metadata": {},
   "outputs": [
    {
     "name": "stderr",
     "output_type": "stream",
     "text": [
      "/usr/local/python/3.12.1/lib/python3.12/site-packages/tqdm/auto.py:21: TqdmWarning: IProgress not found. Please update jupyter and ipywidgets. See https://ipywidgets.readthedocs.io/en/stable/user_install.html\n",
      "  from .autonotebook import tqdm as notebook_tqdm\n"
     ]
    },
    {
     "name": "stdout",
     "output_type": "stream",
     "text": [
      "Vectorstore factory recreated successfully!\n"
     ]
    }
   ],
   "source": [
    "# Recreate vectorstore factory to clear any cached parameters\n",
    "# This ensures we use the updated vectorstore.py without problematic parameters\n",
    "import importlib\n",
    "from pinecone import Pinecone\n",
    "import vectorstore\n",
    "\n",
    "# Reload the vectorstore module to get the latest changes\n",
    "importlib.reload(vectorstore)\n",
    "\n",
    "index_name = 'products'\n",
    "\n",
    "# Recreate the vectorstore factory with fresh instance\n",
    "pinecone = Pinecone(api_key=PINECONE_API_KEY)\n",
    "vectorstore_factory = vectorstore.VectorstoreFactory(pinecone=pinecone)\n",
    "vectorstore = vectorstore_factory.get_vectorstore(index_name=index_name)\n",
    "\n",
    "print(\"Vectorstore factory recreated successfully!\")"
   ]
  },
  {
   "cell_type": "code",
   "execution_count": 27,
   "metadata": {},
   "outputs": [],
   "source": [
    "# Creating documents from products DataFrame and store them in the vector store\n",
    "documents = []\n",
    "for _, row in products_df.iterrows():\n",
    "    product_metadata = {\n",
    "        'product_id': row['product_id'],\n",
    "        'name': row['name'],\n",
    "        'category': row['category'],\n",
    "        'price': row['price'],\n",
    "        'seasons': row['seasons'],\n",
    "    }\n",
    "    documents.append(vectorstore_factory.create_document(page_content=row['description'], metadata=product_metadata))\n",
    "\n",
    "vectorstore_factory.add_documents(documents, index_name=index_name)"
   ]
  },
  {
   "cell_type": "code",
   "execution_count": null,
   "metadata": {
    "id": "_OTC44s1oJhb"
   },
   "outputs": [],
   "source": [
    "# Code example of generating output document\n",
    "\n",
    "# Creates a new shared Google Worksheet every invocation with the proper structure\n",
    "# Note: This code should be executed from the google colab once you are ready, it will not work locally\n",
    "from google.colab import auth\n",
    "import gspread\n",
    "from google.auth import default\n",
    "from gspread_dataframe import set_with_dataframe\n",
    "\n",
    "# Authenticate user\n",
    "auth.authenticate_user()\n",
    "creds, _ = default()\n",
    "\n",
    "gc = gspread.authorize(creds)\n",
    "\n",
    "# IMPORTANT: You need to authenticate the user to be able to create new worksheet\n",
    "# Insert the authentication snippet from the official documentation to create a google client:\n",
    "# https://colab.research.google.com/notebooks/io.ipynb#scrollTo=qzi9VsEqzI-o\n",
    "\n",
    "# This code goes after creating google client\n",
    "output_document = gc.create('Solving Business Problems with AI - Output')\n",
    "\n",
    "# Create 'email-classification' sheet\n",
    "email_classification_sheet = output_document.add_worksheet(title=\"email-classification\", rows=50, cols=2)\n",
    "email_classification_sheet.update([['email ID', 'category']], 'A1:B1')\n",
    "\n",
    "# Example of writing the data into the sheet\n",
    "# Assuming you have your classification in the email_classification_df DataFrame\n",
    "# set_with_dataframe(email_classification_sheet, email_classification_df)\n",
    "# Or directly update cells: https://docs.gspread.org/en/latest/user-guide.html#updating-cells\n",
    "\n",
    "# Create 'order-status' sheet\n",
    "order_status_sheet = output_document.add_worksheet(title=\"order-status\", rows=50, cols=4)\n",
    "order_status_sheet.update([['email ID', 'product ID', 'quantity', 'status']], 'A1:D1')\n",
    "\n",
    "# Create 'order-response' sheet\n",
    "order_response_sheet = output_document.add_worksheet(title=\"order-response\", rows=50, cols=2)\n",
    "order_response_sheet.update([['email ID', 'response']], 'A1:B1')\n",
    "\n",
    "# Create 'inquiry-response' sheet\n",
    "inquiry_response_sheet = output_document.add_worksheet(title=\"inquiry-response\", rows=50, cols=2)\n",
    "inquiry_response_sheet.update([['email ID', 'response']], 'A1:B1')\n",
    "\n",
    "# Share the spreadsheet publicly\n",
    "output_document.share('', perm_type='anyone', role='reader')\n",
    "\n",
    "# This is the solution output link, paste it into the submission form\n",
    "print(f\"Shareable link: https://docs.google.com/spreadsheets/d/{output_document.id}\")"
   ]
  },
  {
   "cell_type": "markdown",
   "metadata": {
    "id": "zyvqJ-BUNKQR"
   },
   "source": [
    "# Task 1. Classify emails"
   ]
  },
  {
   "cell_type": "code",
   "execution_count": null,
   "metadata": {},
   "outputs": [
    {
     "name": "stdout",
     "output_type": "stream",
     "text": [
      "Classifying first 2 emails...\n"
     ]
    }
   ],
   "source": [
    "import business_agent\n",
    "from openai import OpenAI\n",
    "import importlib\n",
    "\n",
    "# Reload the business_agent module to get the latest changes\n",
    "importlib.reload(business_agent)\n",
    "\n",
    "client = OpenAI(\n",
    "    base_url=OPENAI_BASE,\n",
    "    api_key=OPENAI_API_KEY\n",
    ")\n",
    "\n",
    "agent = business_agent.BusinessAgent(client, vector_store=vectorstore_factory.vector_store)\n",
    "\n",
    "# Test with just the first 2 rows\n",
    "test_emails_df = emails_df.head(5).copy()\n",
    "\n",
    "# Classify emails using structured output\n",
    "print(\"Classifying first 2 emails...\")\n",
    "for idx, row in test_emails_df.iterrows():\n",
    "    email_id = row['email_id']    \n",
    "    # Combine subject and body for classification\n",
    "       \n",
    "    # Get structured classification result\n",
    "    classification = agent.classify_email_structured(row['subject'], row['message'])\n",
    "    \n",
    "    # Store the category in the dataframe\n",
    "    test_emails_df.loc[idx, 'category'] = classification.category"
   ]
  },
  {
   "cell_type": "code",
   "execution_count": 13,
   "metadata": {},
   "outputs": [
    {
     "data": {
      "text/plain": [
       "OrderAnalysis(products_mentioned=['Versatile Scarves'], product_ids=['VSC6789'], quantities=[1], customer_intent='The customer wants to place an order for a Versatile Scarf.', urgency_level='low')"
      ]
     },
     "execution_count": 13,
     "metadata": {},
     "output_type": "execute_result"
    }
   ],
   "source": [
    "importlib.reload(business_agent)\n",
    "agent = business_agent.BusinessAgent(client, vector_store=vectorstore_factory.vector_store)\n",
    "email_subject = \"Ordering a Versatile Scarf-like item\"\n",
    "email_text = \"Hello, I'd want to order one of your Versatile Scarves, the one that can be worn as a scarf, shawl, or headwrap. Thanks!\"\n",
    "agent.analyze_order_request(email_subject, email_text)\n",
    "\n"
   ]
  },
  {
   "cell_type": "markdown",
   "metadata": {
    "id": "lm3ZeatjYjM3"
   },
   "source": [
    "# Task 2. Process order requests"
   ]
  },
  {
   "cell_type": "markdown",
   "metadata": {
    "id": "29ExT_MQRhos"
   },
   "source": [
    "# Task 3. Handle product inquiry"
   ]
  }
 ],
 "metadata": {
  "colab": {
   "include_colab_link": true,
   "provenance": []
  },
  "kernelspec": {
   "display_name": "Python 3",
   "name": "python3"
  },
  "language_info": {
   "codemirror_mode": {
    "name": "ipython",
    "version": 3
   },
   "file_extension": ".py",
   "mimetype": "text/x-python",
   "name": "python",
   "nbconvert_exporter": "python",
   "pygments_lexer": "ipython3",
   "version": "3.12.1"
  }
 },
 "nbformat": 4,
 "nbformat_minor": 0
}
